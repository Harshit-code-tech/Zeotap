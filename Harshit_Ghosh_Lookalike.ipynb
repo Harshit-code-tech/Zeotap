{
 "cells": [
  {
   "metadata": {},
   "cell_type": "markdown",
   "source": "# Task 2: Lookalike Model\n",
   "id": "93049f6c144e3479"
  },
  {
   "metadata": {
    "ExecuteTime": {
     "end_time": "2025-01-25T14:33:19.332077Z",
     "start_time": "2025-01-25T14:33:19.190956Z"
    }
   },
   "cell_type": "code",
   "source": [
    "import pandas as pd\n",
    "from sklearn.metrics.pairwise import cosine_similarity\n",
    "from sklearn.preprocessing import StandardScaler\n"
   ],
   "id": "3cedef2bc96530b3",
   "outputs": [],
   "execution_count": 1
  },
  {
   "metadata": {
    "ExecuteTime": {
     "end_time": "2025-01-25T14:33:56.109600Z",
     "start_time": "2025-01-25T14:33:56.092296Z"
    }
   },
   "cell_type": "code",
   "source": [
    "# Load datasets\n",
    "customers = pd.read_csv(\"Customers.csv\")\n",
    "products = pd.read_csv(\"Products.csv\")\n",
    "transactions = pd.read_csv(\"Transactions - Transactions.csv\")"
   ],
   "id": "e4fd696f291b0c71",
   "outputs": [],
   "execution_count": 3
  },
  {
   "metadata": {
    "ExecuteTime": {
     "end_time": "2025-01-25T14:33:57.533604Z",
     "start_time": "2025-01-25T14:33:57.515943Z"
    }
   },
   "cell_type": "code",
   "source": [
    "# Inspect datasets\n",
    "def inspect_data(df, name):\n",
    "    print(f\"\\n{name} Dataset Overview\")\n",
    "    print(\"-\" * 50)\n",
    "    print(f\"Shape: {df.shape}\")\n",
    "    print(f\"Columns: {df.columns.tolist()}\")\n",
    "    print(\"Sample Data:\")\n",
    "    print(df.head(), \"\\n\")\n",
    "    print(\"Missing Values:\")\n",
    "    print(df.isnull().sum(), \"\\n\")\n",
    "\n",
    "inspect_data(customers, \"Customers\")\n",
    "inspect_data(products, \"Products\")\n",
    "inspect_data(transactions, \"Transactions\")\n"
   ],
   "id": "ae97307946c02212",
   "outputs": [
    {
     "name": "stdout",
     "output_type": "stream",
     "text": [
      "\n",
      "Customers Dataset Overview\n",
      "--------------------------------------------------\n",
      "Shape: (200, 4)\n",
      "Columns: ['CustomerID', 'CustomerName', 'Region', 'SignupDate']\n",
      "Sample Data:\n",
      "  CustomerID        CustomerName         Region  SignupDate\n",
      "0      C0001    Lawrence Carroll  South America  2022-07-10\n",
      "1      C0002      Elizabeth Lutz           Asia  2022-02-13\n",
      "2      C0003      Michael Rivera  South America  2024-03-07\n",
      "3      C0004  Kathleen Rodriguez  South America  2022-10-09\n",
      "4      C0005         Laura Weber           Asia  2022-08-15 \n",
      "\n",
      "Missing Values:\n",
      "CustomerID      0\n",
      "CustomerName    0\n",
      "Region          0\n",
      "SignupDate      0\n",
      "dtype: int64 \n",
      "\n",
      "\n",
      "Products Dataset Overview\n",
      "--------------------------------------------------\n",
      "Shape: (100, 4)\n",
      "Columns: ['ProductID', 'ProductName', 'Category', 'Price']\n",
      "Sample Data:\n",
      "  ProductID              ProductName     Category   Price\n",
      "0      P001     ActiveWear Biography        Books  169.30\n",
      "1      P002    ActiveWear Smartwatch  Electronics  346.30\n",
      "2      P003  ComfortLiving Biography        Books   44.12\n",
      "3      P004            BookWorld Rug   Home Decor   95.69\n",
      "4      P005          TechPro T-Shirt     Clothing  429.31 \n",
      "\n",
      "Missing Values:\n",
      "ProductID      0\n",
      "ProductName    0\n",
      "Category       0\n",
      "Price          0\n",
      "dtype: int64 \n",
      "\n",
      "\n",
      "Transactions Dataset Overview\n",
      "--------------------------------------------------\n",
      "Shape: (1000, 7)\n",
      "Columns: ['TransactionID', 'CustomerID', 'ProductID', 'TransactionDate', 'Quantity', 'TotalValue', 'Price']\n",
      "Sample Data:\n",
      "  TransactionID CustomerID ProductID      TransactionDate  Quantity  \\\n",
      "0        T00001      C0199      P067  2024-08-25 12:38:23         1   \n",
      "1        T00112      C0146      P067  2024-05-27 22:23:54         1   \n",
      "2        T00166      C0127      P067   2024-04-25 7:38:55         1   \n",
      "3        T00272      C0087      P067  2024-03-26 22:55:37         2   \n",
      "4        T00363      C0070      P067  2024-03-21 15:10:10         3   \n",
      "\n",
      "   TotalValue   Price  \n",
      "0      300.68  300.68  \n",
      "1      300.68  300.68  \n",
      "2      300.68  300.68  \n",
      "3      601.36  300.68  \n",
      "4      902.04  300.68   \n",
      "\n",
      "Missing Values:\n",
      "TransactionID      0\n",
      "CustomerID         0\n",
      "ProductID          0\n",
      "TransactionDate    0\n",
      "Quantity           0\n",
      "TotalValue         0\n",
      "Price              0\n",
      "dtype: int64 \n",
      "\n"
     ]
    }
   ],
   "execution_count": 4
  },
  {
   "metadata": {
    "ExecuteTime": {
     "end_time": "2025-01-25T14:34:08.732551Z",
     "start_time": "2025-01-25T14:34:08.718023Z"
    }
   },
   "cell_type": "code",
   "source": [
    "# Merge datasets\n",
    "data = transactions.merge(customers, on='CustomerID').merge(products, on='ProductID')\n"
   ],
   "id": "7416a2e289a0835a",
   "outputs": [],
   "execution_count": 5
  },
  {
   "metadata": {
    "ExecuteTime": {
     "end_time": "2025-01-25T14:34:12.421330Z",
     "start_time": "2025-01-25T14:34:12.417328Z"
    }
   },
   "cell_type": "code",
   "source": [
    "# Check columns in the merged dataset\n",
    "print(\"Columns in merged data:\", data.columns)"
   ],
   "id": "85bd0e7e7c703efb",
   "outputs": [
    {
     "name": "stdout",
     "output_type": "stream",
     "text": [
      "Columns in merged data: Index(['TransactionID', 'CustomerID', 'ProductID', 'TransactionDate',\n",
      "       'Quantity', 'TotalValue', 'Price_x', 'CustomerName', 'Region',\n",
      "       'SignupDate', 'ProductName', 'Category', 'Price_y'],\n",
      "      dtype='object')\n"
     ]
    }
   ],
   "execution_count": 6
  },
  {
   "metadata": {},
   "cell_type": "markdown",
   "source": "## Feature engineering for lookalike model",
   "id": "5014a38c6146ca1f"
  },
  {
   "metadata": {
    "ExecuteTime": {
     "end_time": "2025-01-25T14:34:29.318573Z",
     "start_time": "2025-01-25T14:34:29.306218Z"
    }
   },
   "cell_type": "code",
   "source": [
    "# Aggregate customer-level transaction data\n",
    "customer_features = data.groupby('CustomerID').agg({\n",
    "    'TotalValue': 'sum',\n",
    "    'Quantity': 'sum',\n",
    "    'Price_x': 'mean'\n",
    "}).reset_index()\n",
    "\n",
    "# Rename columns for clarity\n",
    "customer_features.columns = ['CustomerID', 'TotalSpending', 'TotalQuantity', 'AvgPrice']\n"
   ],
   "id": "644e6d00f58bd971",
   "outputs": [],
   "execution_count": 7
  },
  {
   "metadata": {
    "ExecuteTime": {
     "end_time": "2025-01-25T14:34:33.501807Z",
     "start_time": "2025-01-25T14:34:33.489245Z"
    }
   },
   "cell_type": "code",
   "source": [
    "# One-hot encode region\n",
    "region_encoded = pd.get_dummies(customers[['CustomerID', 'Region']], columns=['Region'])\n",
    "customer_features = customer_features.merge(region_encoded, on='CustomerID')\n"
   ],
   "id": "61a08c54d1293a4f",
   "outputs": [],
   "execution_count": 8
  },
  {
   "metadata": {
    "ExecuteTime": {
     "end_time": "2025-01-25T14:34:37.618566Z",
     "start_time": "2025-01-25T14:34:37.607029Z"
    }
   },
   "cell_type": "code",
   "source": [
    "# Normalize features\n",
    "scaler = StandardScaler()\n",
    "scaled_features = scaler.fit_transform(customer_features.drop(columns=['CustomerID']))\n"
   ],
   "id": "e0e1758fa6695a9a",
   "outputs": [],
   "execution_count": 9
  },
  {
   "metadata": {
    "ExecuteTime": {
     "end_time": "2025-01-25T14:34:41.962056Z",
     "start_time": "2025-01-25T14:34:41.951849Z"
    }
   },
   "cell_type": "code",
   "source": [
    "# Compute cosine similarity\n",
    "similarity_matrix = cosine_similarity(scaled_features)\n",
    "similarity_df = pd.DataFrame(similarity_matrix, index=customer_features['CustomerID'], columns=customer_features['CustomerID'])\n"
   ],
   "id": "82d8b6c7f3d13853",
   "outputs": [],
   "execution_count": 10
  },
  {
   "metadata": {
    "ExecuteTime": {
     "end_time": "2025-01-25T14:34:45.658652Z",
     "start_time": "2025-01-25T14:34:45.640125Z"
    }
   },
   "cell_type": "code",
   "source": [
    "# Generate lookalike recommendations for first 20 customers\n",
    "lookalike_results = {}\n",
    "for customer_id in customer_features['CustomerID'][:20]:\n",
    "    similar_customers = similarity_df[customer_id].sort_values(ascending=False).iloc[1:4]\n",
    "    lookalike_results[customer_id] = [(sim_cust, score) for sim_cust, score in similar_customers.items()]\n",
    "\n"
   ],
   "id": "4f10fd81008f2f15",
   "outputs": [],
   "execution_count": 11
  },
  {
   "metadata": {
    "ExecuteTime": {
     "end_time": "2025-01-25T14:34:49.191541Z",
     "start_time": "2025-01-25T14:34:49.185172Z"
    }
   },
   "cell_type": "code",
   "source": [
    "# Save lookalike results to CSV\n",
    "lookalike_output = []\n",
    "for cust_id, recommendations in lookalike_results.items():\n",
    "    for rec_cust, score in recommendations:\n",
    "        lookalike_output.append({'CustomerID': cust_id, 'SimilarCustomerID': rec_cust, 'SimilarityScore': score})\n",
    "lookalike_df = pd.DataFrame(lookalike_output)\n",
    "lookalike_df.to_csv(\"Jyotika_Jayani_Lookalike.csv\", index=False)"
   ],
   "id": "8bfbe507cba4b999",
   "outputs": [],
   "execution_count": 12
  },
  {
   "metadata": {
    "ExecuteTime": {
     "end_time": "2025-01-25T14:34:54.059469Z",
     "start_time": "2025-01-25T14:34:54.054243Z"
    }
   },
   "cell_type": "code",
   "source": [
    "# Display sample recommendations\n",
    "print(\"Sample Lookalike Recommendations:\\n\")\n",
    "print(lookalike_df.head(20))"
   ],
   "id": "cda0849e60d77f4d",
   "outputs": [
    {
     "name": "stdout",
     "output_type": "stream",
     "text": [
      "Sample Lookalike Recommendations:\n",
      "\n",
      "   CustomerID SimilarCustomerID  SimilarityScore\n",
      "0       C0001             C0137         0.992950\n",
      "1       C0001             C0191         0.989996\n",
      "2       C0001             C0011         0.983569\n",
      "3       C0002             C0088         0.991240\n",
      "4       C0002             C0142         0.990460\n",
      "5       C0002             C0178         0.973887\n",
      "6       C0003             C0190         0.986809\n",
      "7       C0003             C0147         0.972504\n",
      "8       C0003             C0174         0.961934\n",
      "9       C0004             C0113         0.987222\n",
      "10      C0004             C0165         0.967831\n",
      "11      C0004             C0012         0.964326\n",
      "12      C0005             C0140         0.993102\n",
      "13      C0005             C0186         0.987795\n",
      "14      C0005             C0123         0.981008\n",
      "15      C0006             C0048         0.984436\n",
      "16      C0006             C0184         0.971585\n",
      "17      C0006             C0107         0.970204\n",
      "18      C0007             C0146         0.997589\n",
      "19      C0007             C0115         0.977294\n"
     ]
    }
   ],
   "execution_count": 13
  },
  {
   "metadata": {},
   "cell_type": "code",
   "outputs": [],
   "execution_count": null,
   "source": "",
   "id": "5190233ac536dcc2"
  }
 ],
 "metadata": {
  "kernelspec": {
   "display_name": "Python 3",
   "language": "python",
   "name": "python3"
  },
  "language_info": {
   "codemirror_mode": {
    "name": "ipython",
    "version": 2
   },
   "file_extension": ".py",
   "mimetype": "text/x-python",
   "name": "python",
   "nbconvert_exporter": "python",
   "pygments_lexer": "ipython2",
   "version": "2.7.6"
  }
 },
 "nbformat": 4,
 "nbformat_minor": 5
}
